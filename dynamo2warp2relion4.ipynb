{
 "cells": [
  {
   "cell_type": "code",
   "execution_count": 136,
   "id": "8d0a2cc0",
   "metadata": {},
   "outputs": [],
   "source": [
    "import starfile\n",
    "import re\n",
    "import pandas as pd"
   ]
  },
  {
   "cell_type": "code",
   "execution_count": 130,
   "id": "7bb2781d",
   "metadata": {},
   "outputs": [],
   "source": [
    "binfactor=6"
   ]
  },
  {
   "cell_type": "code",
   "execution_count": 131,
   "id": "7d4be306",
   "metadata": {},
   "outputs": [],
   "source": [
    "df_in=starfile.read(\"test.star\")\n",
    "df_out=df_in.copy()\n",
    "df_out=df_out.drop(\"rlnMicrographName\",axis=1)"
   ]
  },
  {
   "cell_type": "code",
   "execution_count": 132,
   "id": "e8c75094",
   "metadata": {},
   "outputs": [
    {
     "data": {
      "text/html": [
       "<div>\n",
       "<style scoped>\n",
       "    .dataframe tbody tr th:only-of-type {\n",
       "        vertical-align: middle;\n",
       "    }\n",
       "\n",
       "    .dataframe tbody tr th {\n",
       "        vertical-align: top;\n",
       "    }\n",
       "\n",
       "    .dataframe thead th {\n",
       "        text-align: right;\n",
       "    }\n",
       "</style>\n",
       "<table border=\"1\" class=\"dataframe\">\n",
       "  <thead>\n",
       "    <tr style=\"text-align: right;\">\n",
       "      <th></th>\n",
       "      <th>rlnCoordinateX</th>\n",
       "      <th>rlnCoordinateY</th>\n",
       "      <th>rlnCoordinateZ</th>\n",
       "      <th>rlnAngleRot</th>\n",
       "      <th>rlnAngleTilt</th>\n",
       "      <th>rlnAnglePsi</th>\n",
       "      <th>rlnMicrographName</th>\n",
       "    </tr>\n",
       "  </thead>\n",
       "  <tbody>\n",
       "    <tr>\n",
       "      <th>0</th>\n",
       "      <td>344.72</td>\n",
       "      <td>442.34</td>\n",
       "      <td>137.01</td>\n",
       "      <td>-70.57</td>\n",
       "      <td>90.213</td>\n",
       "      <td>70.570</td>\n",
       "      <td>/media/jranderson/14TB_extHD/RELION_TOMO_TUTOR...</td>\n",
       "    </tr>\n",
       "    <tr>\n",
       "      <th>1</th>\n",
       "      <td>344.39</td>\n",
       "      <td>443.28</td>\n",
       "      <td>137.01</td>\n",
       "      <td>-10.57</td>\n",
       "      <td>90.213</td>\n",
       "      <td>70.570</td>\n",
       "      <td>/media/jranderson/14TB_extHD/RELION_TOMO_TUTOR...</td>\n",
       "    </tr>\n",
       "    <tr>\n",
       "      <th>2</th>\n",
       "      <td>344.06</td>\n",
       "      <td>444.22</td>\n",
       "      <td>137.00</td>\n",
       "      <td>49.54</td>\n",
       "      <td>90.617</td>\n",
       "      <td>70.459</td>\n",
       "      <td>/media/jranderson/14TB_extHD/RELION_TOMO_TUTOR...</td>\n",
       "    </tr>\n",
       "    <tr>\n",
       "      <th>3</th>\n",
       "      <td>343.72</td>\n",
       "      <td>445.16</td>\n",
       "      <td>136.99</td>\n",
       "      <td>109.54</td>\n",
       "      <td>90.617</td>\n",
       "      <td>70.459</td>\n",
       "      <td>/media/jranderson/14TB_extHD/RELION_TOMO_TUTOR...</td>\n",
       "    </tr>\n",
       "    <tr>\n",
       "      <th>4</th>\n",
       "      <td>343.39</td>\n",
       "      <td>446.11</td>\n",
       "      <td>136.97</td>\n",
       "      <td>169.65</td>\n",
       "      <td>90.989</td>\n",
       "      <td>70.349</td>\n",
       "      <td>/media/jranderson/14TB_extHD/RELION_TOMO_TUTOR...</td>\n",
       "    </tr>\n",
       "  </tbody>\n",
       "</table>\n",
       "</div>"
      ],
      "text/plain": [
       "   rlnCoordinateX  rlnCoordinateY  rlnCoordinateZ  rlnAngleRot  rlnAngleTilt  \\\n",
       "0          344.72          442.34          137.01       -70.57        90.213   \n",
       "1          344.39          443.28          137.01       -10.57        90.213   \n",
       "2          344.06          444.22          137.00        49.54        90.617   \n",
       "3          343.72          445.16          136.99       109.54        90.617   \n",
       "4          343.39          446.11          136.97       169.65        90.989   \n",
       "\n",
       "   rlnAnglePsi                                  rlnMicrographName  \n",
       "0       70.570  /media/jranderson/14TB_extHD/RELION_TOMO_TUTOR...  \n",
       "1       70.570  /media/jranderson/14TB_extHD/RELION_TOMO_TUTOR...  \n",
       "2       70.459  /media/jranderson/14TB_extHD/RELION_TOMO_TUTOR...  \n",
       "3       70.459  /media/jranderson/14TB_extHD/RELION_TOMO_TUTOR...  \n",
       "4       70.349  /media/jranderson/14TB_extHD/RELION_TOMO_TUTOR...  "
      ]
     },
     "execution_count": 132,
     "metadata": {},
     "output_type": "execute_result"
    }
   ],
   "source": [
    "df_in.head()"
   ]
  },
  {
   "cell_type": "code",
   "execution_count": 133,
   "id": "221eb376",
   "metadata": {},
   "outputs": [],
   "source": [
    "df_out['rlnCoordinateX']=df_in['rlnCoordinateX']*6\n",
    "df_out['rlnCoordinateY']=df_in['rlnCoordinateY']*6\n",
    "df_out['rlnCoordinateZ']=df_in['rlnCoordinateZ']*6\n",
    "\n",
    "TomoName=[]\n",
    "\n",
    "for TS in df_in['rlnMicrographName']:\n",
    "    TomoName.append(re.search(\"TS\\S\\S\",TS).group(0))\n",
    "    \n",
    "\n",
    "TomoParticleId=[]\n",
    "OriginXAngst=[]\n",
    "OriginYAngst=[]\n",
    "OriginZAngst=[]\n",
    "\n",
    "for i in range(df_out.shape[0]):\n",
    "    TomoParticleId.append(i+1)\n",
    "    OriginXAngst.append(-0.000)\n",
    "    OriginYAngst.append(-0.000)\n",
    "    OriginZAngst.append(-0.000)\n",
    "\n",
    "    \n",
    "    \n",
    "df_out[\"rlnTomoName\"] = TomoName\n",
    "df_out[\"rlnTomoParticleId\"] = TomoParticleId\n"
   ]
  },
  {
   "cell_type": "code",
   "execution_count": 134,
   "id": "4fa1952b",
   "metadata": {},
   "outputs": [],
   "source": [
    "cols=[\"rlnTomoName\",\"rlnTomoParticleId\",\"rlnCoordinateX\",\"rlnCoordinateY\",\"rlnCoordinateZ\",\"rlnAngleRot\",\"rlnAngleTilt\",\"rlnAnglePsi\"]\n",
    "df_out=df_out[cols]\n",
    "starfile.write(df_out,\"test_outstar.star\",overwrite=True)"
   ]
  },
  {
   "cell_type": "code",
   "execution_count": 182,
   "id": "7f2cab63",
   "metadata": {},
   "outputs": [
    {
     "name": "stdout",
     "output_type": "stream",
     "text": [
      "['tomograms/TSmt/TSmt.mrc', 'tomograms/TS27/TS27.mrc', 'tomograms/TS18/TS18.mrc', 'tomograms/TS16/TS16.mrc', 'tomograms/TS15/TS15.mrc', 'tomograms/TS24/TS24.mrc', 'tomograms/TS14/TS14.mrc', 'tomograms/TS19/TS19.mrc', 'tomograms/TS13/TS13.mrc', 'tomograms/TS11/TS11.mrc', 'tomograms/TS21/TS21.mrc', 'tomograms/TS20/TS20.mrc']\n"
     ]
    }
   ],
   "source": [
    "desc_file_name=\"tomograms_descr_jra_mt.star\"\n",
    "desc = pd.DataFrame(columns=[\"rlnTomoName\",\"rlnTomoTiltSeriesName\",\"rlnTomoImportCtfFindFile\",\"rlnTomoImportImodDir\",\"rlnTomoImportFractionalDose\",\"rlnTomoImportOrderList\",\"rlnTomoImportCulledFile\"])\n",
    "desc[\"rlnTomoName\"]=df_out[\"rlnTomoName\"].unique()\n",
    "\n",
    "TomoTiltSeriesName=[]\n",
    "ImportCtfFindFile=[]\n",
    "TomoImportImodDir=[]\n",
    "TomoImportFractionalDose=[]\n",
    "TomoImportOrderList=[]\n",
    "TomoImportCulledFile=[]\n",
    "\n",
    "for tomo_name in desc[\"rlnTomoName\"]:\n",
    "    TomoTiltSeriesName.append(f'tomograms/{tomo_name}/{tomo_name}.mrc')\n",
    "    ImportCtfFindFile.append(f'tomograms/{tomo_name}/{tomo_name}_output.txt')\n",
    "    TomoImportImodDir.append(f'tomograms/{tomo_name}')\n",
    "    TomoImportFractionalDose.append(3.7)\n",
    "    TomoImportOrderList.append(\"input/order_list.csv\")\n",
    "    TomoImportCulledFile.append(f'tomograms/{tomo_name}/{tomo_name}_cul.mrc')\n",
    "    \n",
    "print(TomoTiltSeriesName)    \n",
    "\n",
    "desc[\"rlnTomoTiltSeriesName\"] = TomoTiltSeriesName\n",
    "desc[\"rlnTomoImportCtfFindFile\"]=ImportCtfFindFile\n",
    "desc[\"rlnTomoImportImodDir\"]=TomoImportImodDir\n",
    "desc[\"rlnTomoImportFractionalDose\"]=TomoImportFractionalDose\n",
    "desc[\"rlnTomoImportOrderList\"]=TomoImportOrderList\n",
    "desc[\"rlnTomoImportCulledFile\"]=TomoImportCulledFile\n",
    "\n",
    "\n"
   ]
  },
  {
   "cell_type": "code",
   "execution_count": 183,
   "id": "e752e932",
   "metadata": {},
   "outputs": [],
   "source": [
    "starfile.write(desc,\"tomograms_descr_jramt.star\",overwrite=True)"
   ]
  }
 ],
 "metadata": {
  "kernelspec": {
   "display_name": "dyanmo2relion",
   "language": "python",
   "name": "dyanmo2relion"
  },
  "language_info": {
   "codemirror_mode": {
    "name": "ipython",
    "version": 3
   },
   "file_extension": ".py",
   "mimetype": "text/x-python",
   "name": "python",
   "nbconvert_exporter": "python",
   "pygments_lexer": "ipython3",
   "version": "3.9.12"
  }
 },
 "nbformat": 4,
 "nbformat_minor": 5
}
